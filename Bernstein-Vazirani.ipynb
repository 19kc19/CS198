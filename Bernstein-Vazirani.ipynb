{
 "cells": [
  {
   "cell_type": "code",
   "execution_count": 1,
   "metadata": {
    "collapsed": false
   },
   "outputs": [
    {
     "name": "stdout",
     "output_type": "stream",
     "text": [
      "Requirement already up-to-date: pip in c:\\users\\kevin\\anaconda3\\lib\\site-packages (19.3.1)\n",
      "Requirement already satisfied: cirq in c:\\users\\kevin\\anaconda3\\lib\\site-packages (0.6.0)\n",
      "Requirement already satisfied: pandas in c:\\users\\kevin\\anaconda3\\lib\\site-packages (from cirq) (0.19.2)\n",
      "Requirement already satisfied: scipy in c:\\users\\kevin\\anaconda3\\lib\\site-packages (from cirq) (0.18.1)\n",
      "Requirement already satisfied: dataclasses; python_version < \"3.7\" in c:\\users\\kevin\\anaconda3\\lib\\site-packages (from cirq) (0.7)\n",
      "Requirement already satisfied: requests~=2.18 in c:\\users\\kevin\\anaconda3\\lib\\site-packages (from cirq) (2.21.0)\n",
      "Requirement already satisfied: matplotlib~=3.0 in c:\\users\\kevin\\anaconda3\\lib\\site-packages (from cirq) (3.1.2)\n",
      "Requirement already satisfied: sympy in c:\\users\\kevin\\anaconda3\\lib\\site-packages (from cirq) (1.0)\n",
      "Requirement already satisfied: sortedcontainers~=2.0 in c:\\users\\kevin\\anaconda3\\lib\\site-packages (from cirq) (2.1.0)\n",
      "Requirement already satisfied: google-api-python-client~=1.6 in c:\\users\\kevin\\anaconda3\\lib\\site-packages (from cirq) (1.7.11)\n",
      "Requirement already satisfied: numpy~=1.16 in c:\\users\\kevin\\anaconda3\\lib\\site-packages (from cirq) (1.17.4)\n",
      "Requirement already satisfied: protobuf==3.8.0 in c:\\users\\kevin\\anaconda3\\lib\\site-packages (from cirq) (3.8.0)\n",
      "Requirement already satisfied: typing-extensions in c:\\users\\kevin\\anaconda3\\lib\\site-packages (from cirq) (3.7.4.1)\n",
      "Requirement already satisfied: networkx==2.3 in c:\\users\\kevin\\anaconda3\\lib\\site-packages (from cirq) (2.3)\n",
      "Requirement already satisfied: python-dateutil>=2 in c:\\users\\kevin\\anaconda3\\lib\\site-packages (from pandas->cirq) (2.6.0)\n",
      "Requirement already satisfied: pytz>=2011k in c:\\users\\kevin\\anaconda3\\lib\\site-packages (from pandas->cirq) (2016.10)\n",
      "Requirement already satisfied: certifi>=2017.4.17 in c:\\users\\kevin\\anaconda3\\lib\\site-packages (from requests~=2.18->cirq) (2018.11.29)\n",
      "Requirement already satisfied: urllib3<1.25,>=1.21.1 in c:\\users\\kevin\\anaconda3\\lib\\site-packages (from requests~=2.18->cirq) (1.24.1)\n",
      "Requirement already satisfied: chardet<3.1.0,>=3.0.2 in c:\\users\\kevin\\anaconda3\\lib\\site-packages (from requests~=2.18->cirq) (3.0.4)\n",
      "Requirement already satisfied: idna<2.9,>=2.5 in c:\\users\\kevin\\anaconda3\\lib\\site-packages (from requests~=2.18->cirq) (2.8)\n",
      "Requirement already satisfied: kiwisolver>=1.0.1 in c:\\users\\kevin\\anaconda3\\lib\\site-packages (from matplotlib~=3.0->cirq) (1.1.0)\n",
      "Requirement already satisfied: cycler>=0.10 in c:\\users\\kevin\\anaconda3\\lib\\site-packages (from matplotlib~=3.0->cirq) (0.10.0)\n",
      "Requirement already satisfied: pyparsing!=2.0.4,!=2.1.2,!=2.1.6,>=2.0.1 in c:\\users\\kevin\\anaconda3\\lib\\site-packages (from matplotlib~=3.0->cirq) (2.1.4)\n",
      "Requirement already satisfied: google-auth-httplib2>=0.0.3 in c:\\users\\kevin\\anaconda3\\lib\\site-packages (from google-api-python-client~=1.6->cirq) (0.0.3)\n",
      "Requirement already satisfied: uritemplate<4dev,>=3.0.0 in c:\\users\\kevin\\anaconda3\\lib\\site-packages (from google-api-python-client~=1.6->cirq) (3.0.0)\n",
      "Requirement already satisfied: six<2dev,>=1.6.1 in c:\\users\\kevin\\appdata\\roaming\\python\\python36\\site-packages (from google-api-python-client~=1.6->cirq) (1.11.0)\n",
      "Requirement already satisfied: httplib2<1dev,>=0.9.2 in c:\\users\\kevin\\anaconda3\\lib\\site-packages (from google-api-python-client~=1.6->cirq) (0.14.0)\n",
      "Requirement already satisfied: google-auth>=1.4.1 in c:\\users\\kevin\\anaconda3\\lib\\site-packages (from google-api-python-client~=1.6->cirq) (1.6.2)\n",
      "Requirement already satisfied: setuptools in c:\\users\\kevin\\appdata\\roaming\\python\\python36\\site-packages (from protobuf==3.8.0->cirq) (39.0.1)\n",
      "Requirement already satisfied: decorator>=4.3.0 in c:\\users\\kevin\\anaconda3\\lib\\site-packages (from networkx==2.3->cirq) (4.4.1)\n",
      "Requirement already satisfied: rsa>=3.1.4 in c:\\users\\kevin\\anaconda3\\lib\\site-packages (from google-auth>=1.4.1->google-api-python-client~=1.6->cirq) (4.0)\n",
      "Requirement already satisfied: cachetools>=2.0.0 in c:\\users\\kevin\\anaconda3\\lib\\site-packages (from google-auth>=1.4.1->google-api-python-client~=1.6->cirq) (3.1.0)\n",
      "Requirement already satisfied: pyasn1-modules>=0.2.1 in c:\\users\\kevin\\anaconda3\\lib\\site-packages (from google-auth>=1.4.1->google-api-python-client~=1.6->cirq) (0.2.4)\n",
      "Requirement already satisfied: pyasn1>=0.1.3 in c:\\users\\kevin\\anaconda3\\lib\\site-packages (from rsa>=3.1.4->google-auth>=1.4.1->google-api-python-client~=1.6->cirq) (0.4.5)\n"
     ]
    }
   ],
   "source": [
    "# Install cirq\n",
    "import sys\n",
    "!pip install --upgrade pip\n",
    "!{sys.executable} -m pip install cirq"
   ]
  },
  {
   "cell_type": "code",
   "execution_count": 4,
   "metadata": {
    "collapsed": false
   },
   "outputs": [],
   "source": [
    "# Import dependencies\n",
    "import cirq\n",
    "import numpy as np"
   ]
  },
  {
   "cell_type": "code",
   "execution_count": 3,
   "metadata": {
    "collapsed": false
   },
   "outputs": [
    {
     "name": "stdout",
     "output_type": "stream",
     "text": [
      "(0, 0)───(0, 1)───(0, 2)───(0, 3)───(0, 4)───(0, 5)───(0, 6)───(0, 7)───(0, 8)───(0, 9)───(0, 10)\n",
      "│        │        │        │        │        │        │        │        │        │        │\n",
      "│        │        │        │        │        │        │        │        │        │        │\n",
      "(1, 0)───(1, 1)───(1, 2)───(1, 3)───(1, 4)───(1, 5)───(1, 6)───(1, 7)───(1, 8)───(1, 9)───(1, 10)\n"
     ]
    }
   ],
   "source": [
    "# Check that cirq was installed and imported successfully\n",
    "print(cirq.google.Foxtail)"
   ]
  },
  {
   "cell_type": "markdown",
   "metadata": {},
   "source": [
    "\n",
    "This notebook implements the Bernstein-Vazirani Algorithm, which solves the following problem:\n",
    "\n",
    "Given a $n$-bit string $s$, determine $s$ using only queries of the form $f(q) = q \\cdot s % 2$  \n",
    "\n",
    "To solve this classically would require $n$ queries to an oracle, but can accomplished quantumly with only a single oracle call. "
   ]
  },
  {
   "cell_type": "code",
   "execution_count": 9,
   "metadata": {
    "collapsed": false
   },
   "outputs": [
    {
     "name": "stdout",
     "output_type": "stream",
     "text": [
      "[0 1 1 0 1 1 1 0]\n"
     ]
    }
   ],
   "source": [
    "# Specify n and randomly generate a n-bit string.\n",
    "n = 8\n",
    "s = np.random.randint(0, 2, n)\n",
    "s_value = 0\n",
    "for i in range(n):\n",
    "    s_value += \n",
    "print(s)"
   ]
  },
  {
   "cell_type": "code",
   "execution_count": 23,
   "metadata": {
    "collapsed": false
   },
   "outputs": [
    {
     "name": "stdout",
     "output_type": "stream",
     "text": [
      "[cirq.GridQubit(0, 0), cirq.GridQubit(1, 0), cirq.GridQubit(2, 0), cirq.GridQubit(3, 0), cirq.GridQubit(4, 0), cirq.GridQubit(5, 0), cirq.GridQubit(6, 0), cirq.GridQubit(7, 0)]\n",
      "(8, 0)\n"
     ]
    }
   ],
   "source": [
    "# Initialize our qubits and our scratch qubits\n",
    "qubits = [cirq.GridQubit(i, 0) for i in range(n)]\n",
    "scratch = cirq.GridQubit(n, 0)\n",
    "\n",
    "print(qubits)\n",
    "print(scratch)"
   ]
  },
  {
   "cell_type": "code",
   "execution_count": 28,
   "metadata": {
    "collapsed": false
   },
   "outputs": [
    {
     "name": "stdout",
     "output_type": "stream",
     "text": [
      "(0, 0): ───H───────\n",
      "\n",
      "(1, 0): ───H───────\n",
      "\n",
      "(2, 0): ───H───────\n",
      "\n",
      "(3, 0): ───H───────\n",
      "\n",
      "(4, 0): ───H───────\n",
      "\n",
      "(5, 0): ───H───────\n",
      "\n",
      "(6, 0): ───H───────\n",
      "\n",
      "(7, 0): ───H───────\n",
      "\n",
      "(8, 0): ───X───H───\n"
     ]
    }
   ],
   "source": [
    "# Start off the circuit by passing in a uniform superposition and a |1>\n",
    "circuit = cirq.Circuit()\n",
    "\n",
    "for i in range(n):\n",
    "    circuit.append(cirq.H(qubits[i]))\n",
    "    \n",
    "circuit.append(cirq.X(scratch))\n",
    "circuit.append(cirq.H(scratch))\n",
    "\n",
    "print(circuit)"
   ]
  },
  {
   "cell_type": "code",
   "execution_count": 29,
   "metadata": {
    "collapsed": false
   },
   "outputs": [
    {
     "name": "stdout",
     "output_type": "stream",
     "text": [
      "(0, 0): ───H───────────────────────────\n",
      "\n",
      "(1, 0): ───H───────@───────────────────\n",
      "                   │\n",
      "(2, 0): ───H───────┼───@───────────────\n",
      "                   │   │\n",
      "(3, 0): ───H───────┼───┼───────────────\n",
      "                   │   │\n",
      "(4, 0): ───H───────┼───┼───@───────────\n",
      "                   │   │   │\n",
      "(5, 0): ───H───────┼───┼───┼───@───────\n",
      "                   │   │   │   │\n",
      "(6, 0): ───H───────┼───┼───┼───┼───@───\n",
      "                   │   │   │   │   │\n",
      "(7, 0): ───H───────┼───┼───┼───┼───┼───\n",
      "                   │   │   │   │   │\n",
      "(8, 0): ───X───H───X───X───X───X───X───\n"
     ]
    }
   ],
   "source": [
    "# Implement the oracle as a series of CNOT gates\n",
    "for i in range(n):\n",
    "    if s[i] == 1:\n",
    "        circuit.append(cirq.CNOT.on(qubits[i], scratch))\n",
    "        \n",
    "print(circuit)"
   ]
  },
  {
   "cell_type": "code",
   "execution_count": 30,
   "metadata": {
    "collapsed": false
   },
   "outputs": [
    {
     "name": "stdout",
     "output_type": "stream",
     "text": [
      "(0, 0): ───H───H───────────────────────────M('x')───\n",
      "                                           │\n",
      "(1, 0): ───H───────@───H───────────────────M────────\n",
      "                   │                       │\n",
      "(2, 0): ───H───────┼───@───H───────────────M────────\n",
      "                   │   │                   │\n",
      "(3, 0): ───H───H───┼───┼───────────────────M────────\n",
      "                   │   │                   │\n",
      "(4, 0): ───H───────┼───┼───@───H───────────M────────\n",
      "                   │   │   │               │\n",
      "(5, 0): ───H───────┼───┼───┼───@───H───────M────────\n",
      "                   │   │   │   │           │\n",
      "(6, 0): ───H───────┼───┼───┼───┼───@───H───M────────\n",
      "                   │   │   │   │   │       │\n",
      "(7, 0): ───H───H───┼───┼───┼───┼───┼───────M────────\n",
      "                   │   │   │   │   │\n",
      "(8, 0): ───X───H───X───X───X───X───X────────────────\n"
     ]
    }
   ],
   "source": [
    "# Undo the Hadamards and measure\n",
    "for i in range(n):\n",
    "    circuit.append(cirq.H(qubits[i]))\n",
    "\n",
    "circuit.append(cirq.measure(*qubits, key='x'))\n",
    "\n",
    "print(circuit)"
   ]
  },
  {
   "cell_type": "code",
   "execution_count": 31,
   "metadata": {
    "collapsed": false
   },
   "outputs": [
    {
     "name": "stdout",
     "output_type": "stream",
     "text": [
      "Expected:  [0 1 1 0 1 1 1 0]\n",
      "Actual: Counter({110: 100})\n"
     ]
    }
   ],
   "source": [
    "# Run the circuit and see what we get!\n",
    "simulator = cirq.Simulator()\n",
    "results = simulator.run(circuit, repetitions=100)\n",
    "\n",
    "print(\"Expected: \", s)\n",
    "print(\"Actual:\", results.histogram(key='x'))"
   ]
  },
  {
   "cell_type": "code",
   "execution_count": null,
   "metadata": {
    "collapsed": true
   },
   "outputs": [],
   "source": []
  }
 ],
 "metadata": {
  "kernelspec": {
   "display_name": "Python 3",
   "language": "python",
   "name": "python3"
  },
  "language_info": {
   "codemirror_mode": {
    "name": "ipython",
    "version": 3
   },
   "file_extension": ".py",
   "mimetype": "text/x-python",
   "name": "python",
   "nbconvert_exporter": "python",
   "pygments_lexer": "ipython3",
   "version": "3.6.2"
  }
 },
 "nbformat": 4,
 "nbformat_minor": 2
}
